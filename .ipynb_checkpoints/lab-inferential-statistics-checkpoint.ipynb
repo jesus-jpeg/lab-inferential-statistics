{
 "cells": [
  {
   "cell_type": "markdown",
   "id": "015e1a36",
   "metadata": {},
   "source": [
    "![logo_ironhack_blue 7](https://user-images.githubusercontent.com/23629340/40541063-a07a0a8a-601a-11e8-91b5-2f13e4e6b441.png)\n",
    "\n",
    "# Lab | Inferential statistics\n",
    "\n",
    "\n",
    "### Instructions\n",
    "\n",
    "1. It is assumed that the mean systolic blood pressure is `μ = 120 mm Hg`. In the Honolulu Heart Study, a sample of `n = 100` people had an average systolic blood pressure of 130.1 mm Hg with a standard deviation of 21.21 mm Hg. Is the group significantly different (with respect to systolic blood pressure!) from the regular population?\n",
    "\n",
    "   - Set up the hypothesis test.\n",
    "   - Write down all the steps followed for setting up the test.\n",
    "   - Calculate the test statistic by hand and also code it in Python. It should be 4.76190. We will take a look at how to make decisions based on this calculated value.\n",
    "\n",
    "2. If you finished the previous question, please go through the code for `principal_component_analysis_example` provided in the `files_for_lab` folder ."
   ]
  },
  {
   "cell_type": "code",
   "execution_count": 7,
   "id": "5b79021e",
   "metadata": {},
   "outputs": [],
   "source": [
    "import math\n",
    "import pandas as pd\n",
    "import numpy as np\n",
    "import scipy.stats\n",
    "from scipy.stats import t, norm"
   ]
  },
  {
   "cell_type": "markdown",
   "id": "e2c83617",
   "metadata": {},
   "source": [
    "# Steps:\n",
    "\n",
    "- Define null hypothesis H0: μ = 120\n",
    "- Define alternative hypothesis Ha: μ ≠ 120\n",
    "- Level of signifcance: 0.05\n",
    "- Sample BP: μ = 130 \n",
    "- Standard deviation: 21.21\n",
    "- Critical value -> T table: 1.66 (dof 99)\n",
    "- Test Statistic"
   ]
  },
  {
   "cell_type": "markdown",
   "id": "30dfddeb",
   "metadata": {},
   "source": [
    "### 3. Calculate the test statistic by hand and also code it in Python. It should be 4.76190. We will take a look at how to make decisions based on this calculated value."
   ]
  },
  {
   "cell_type": "code",
   "execution_count": 13,
   "id": "72043099",
   "metadata": {},
   "outputs": [
    {
     "name": "stdout",
     "output_type": "stream",
     "text": [
      "test statistic:  4.761904761904759\n",
      "p value:  6.562701817208617e-06\n"
     ]
    }
   ],
   "source": [
    "sample_mean = 130.1\n",
    "pop_mean = 120\n",
    "pop_std = 21.21\n",
    "n = 100\n",
    "\n",
    "stat = (sample_mean - pop_mean)/(pop_std/math.sqrt(n))\n",
    "print(\"test statistic: \",stat)\n",
    "\n",
    "p = scipy.stats.t.sf(abs(statistic), df = n-1)*2\n",
    "print(\"p value: \", p)"
   ]
  },
  {
   "cell_type": "markdown",
   "id": "0211f12f",
   "metadata": {},
   "source": [
    "#### We can say that H0 hypothesis can be rejected, which means that this sample is different from average population (p-value < 0.05)"
   ]
  }
 ],
 "metadata": {
  "kernelspec": {
   "display_name": "Python 3 (ipykernel)",
   "language": "python",
   "name": "python3"
  },
  "language_info": {
   "codemirror_mode": {
    "name": "ipython",
    "version": 3
   },
   "file_extension": ".py",
   "mimetype": "text/x-python",
   "name": "python",
   "nbconvert_exporter": "python",
   "pygments_lexer": "ipython3",
   "version": "3.9.13"
  }
 },
 "nbformat": 4,
 "nbformat_minor": 5
}
